{
  "nbformat": 4,
  "nbformat_minor": 0,
  "metadata": {
    "colab": {
      "name": "Prova.ipynb",
      "provenance": [],
      "collapsed_sections": [],
      "authorship_tag": "ABX9TyMIiKQh1OeQrz3zHsNqr8yh",
      "include_colab_link": true
    },
    "kernelspec": {
      "name": "python3",
      "display_name": "Python 3"
    }
  },
  "cells": [
    {
      "cell_type": "markdown",
      "metadata": {
        "id": "view-in-github",
        "colab_type": "text"
      },
      "source": [
        "<a href=\"https://colab.research.google.com/github/rossatoh/calc/blob/main/Prova.ipynb\" target=\"_parent\"><img src=\"https://colab.research.google.com/assets/colab-badge.svg\" alt=\"Open In Colab\"/></a>"
      ]
    },
    {
      "cell_type": "markdown",
      "metadata": {
        "id": "LoUoNNR0lknD"
      },
      "source": [
        "Criar um programa com uma função que recebe como parâmetro uma listaaa com valores inteiros e executa as operações descritos abaixo.\n",
        "O programa principal deve gerar uma listaaa com 100 valores inteiros aleatórios entre 0 e 50, após a geração, chamar a função passando a listaaa como parâmetro e mostrar os resultados retomados no final do programa.\n",
        "\n",
        "Calcular e retornar a média aritmética dos 50 primeiro valores da listaaa.\n",
        "\n",
        "Calcular e retornar a multiplicação de todos os valores múltiplos de 10 da lista. Desconsidere o valor 0(zero)  ao realizar o cálculo\n",
        "\n",
        "Calcular e retornar a diferença do maior valor par com o menor valor ímpar ((maior par) menos (menor ímpar)).\n",
        "\n",
        "Calcular e retornar uma lista com os valores da lista original divididos pelo maior valor da  lista, ordenados e sem repetição."
      ]
    },
    {
      "cell_type": "code",
      "metadata": {
        "colab": {
          "base_uri": "https://localhost:8080/"
        },
        "id": "Xwi6y3ADlmD8",
        "outputId": "088516bf-71ba-4290-bc5a-56c93ffabc87"
      },
      "source": [
        "from random import randint\n",
        "def ma(listaaa):\n",
        "\n",
        "    listaPar = []\n",
        "    listaImpar = []\n",
        "    divisor = [0*len(listaaa)]\n",
        "\n",
        "    lista2 = listaaa.copy()\n",
        "    lista3 = listaaa.copy()\n",
        "\n",
        "    media = sum(listaaa[0:50]) / len(listaaa[0:50])   # Media Aritmetica\n",
        "\n",
        "    multiplicacao = 1\n",
        "    for c in range(len(listaaa)):\n",
        "        if listaaa[c] % 10 == 0 and listaaa[c] != 0:\n",
        "            multiplicacao *= listaaa[c]\n",
        "\n",
        "    for lista2 in listaaa:\n",
        "        if lista2 % 2 == 0:\n",
        "            listaPar.append(lista2)\n",
        "        else:\n",
        "            listaImpar.append(lista2)\n",
        "\n",
        "    asdf = max(listaPar) - min(listaImpar)\n",
        "\n",
        "    for i in range(len(listaaa)):\n",
        "        divisor.insert(i, listaaa[i] / max(listaaa)) \n",
        "    ordem = sorted(set(divisor))\n",
        "\n",
        "    return ordem, asdf, media, multiplicacao\n",
        "lista = [randint(0, 50) for x in range(100)] #lista de números aleatórios,\n",
        "a, b, c, d = ma([27, 50, 26, 37, 47, 47, 3, 20, 29, 8, 33, 40, 13, 26, 45, 13, 3, 31, 9, 31, 14, 12, 31, 43, 50, 11, 36, 35, 36, 11, 36, 26, 8, 46, 4, 42, 46, 44, 41, 3, 43, 14, 18, 49, 48, 2, 21, 41, 16, 35, 2, 16, 37, 48, 34, 0, 0, 12, 44, 23, 5, 26, 23, 19, 8, 25, 35, 25, 15, 19, 20, 5, 15, 23, 18, 18, 29, 13, 21, 48, 17, 48, 49, 1, 45, 21, 26, 25, 40, 33, 26, 9, 40, 50, 30, 4, 50, 8, 12, 32])\n",
        "print(f'Diferença do maior valor par com o menor valor ímpar: {b:.2f}')\n",
        "print(f'Divisor dos números da lista pelo maior número: {a}')\n",
        "print(f'A Media Aritmetica é : {c}')\n",
        "print(f'Múltiplos de 10 = {d}')\n"
      ],
      "execution_count": null,
      "outputs": [
        {
          "output_type": "stream",
          "text": [
            "Diferença do maior valor par com o menor valor ímpar: 49.00\n",
            "Divisor dos números da lista pelo maior número: [0.0, 0.02, 0.04, 0.06, 0.08, 0.1, 0.16, 0.18, 0.22, 0.24, 0.26, 0.28, 0.3, 0.32, 0.34, 0.36, 0.38, 0.4, 0.42, 0.46, 0.5, 0.52, 0.54, 0.58, 0.6, 0.62, 0.64, 0.66, 0.68, 0.7, 0.72, 0.74, 0.8, 0.82, 0.84, 0.86, 0.88, 0.9, 0.92, 0.94, 0.96, 0.98, 1.0]\n",
            "A Media Aritmetica é : 28.0\n",
            "Múltiplos de 10 = 4800000000000000\n"
          ],
          "name": "stdout"
        }
      ]
    }
  ]
}